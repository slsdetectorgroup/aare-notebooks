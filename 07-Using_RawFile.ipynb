{
 "cells": [
  {
   "cell_type": "markdown",
   "id": "3ab158e0",
   "metadata": {},
   "source": [
    "# Directly using the RawFile class\n",
    "\n",
    "Using the RawFile class directly gives you access to the sls_detector_header and master file"
   ]
  },
  {
   "cell_type": "code",
   "execution_count": 1,
   "id": "3cbfe96a",
   "metadata": {},
   "outputs": [
    {
     "data": {
      "text/markdown": [
       "Example run on: **2025-01-15 08:18** with aare: **dev**"
      ],
      "text/plain": [
       "<IPython.core.display.Markdown object>"
      ]
     },
     "metadata": {},
     "output_type": "display_data"
    }
   ],
   "source": [
    "#add the dev version of aare\n",
    "import sys; sys.path.append('/home/l_msdetect/erik/aare/build')\n",
    "from helpers import nb_aare_version\n",
    "nb_aare_version()\n",
    "\n",
    "from aare import RawMasterFile, File, RawFile, RawSubFile, DetectorType\n",
    "\n",
    "#Our normal python imports\n",
    "from pathlib import Path\n",
    "import matplotlib.pyplot as plt\n",
    "import numpy as np\n",
    "from datetime import datetime as dt\n",
    "\n",
    "base = Path('/mnt/sls_det_storage/matterhorn_data/aare_test_data/')"
   ]
  },
  {
   "cell_type": "markdown",
   "id": "550cc133",
   "metadata": {},
   "source": [
    "## Read all frames from a file"
   ]
  },
  {
   "cell_type": "code",
   "execution_count": 2,
   "id": "f72c4924",
   "metadata": {},
   "outputs": [
    {
     "name": "stdout",
     "output_type": "stream",
     "text": [
      "[ 1  2  3  4  5  6  7  8  9 10]\n",
      "data.shape=(10, 512, 1024)\n"
     ]
    }
   ],
   "source": [
    "# For demo the subfiles contain 3,3,3,1 frames for a total of 10 frames\n",
    "f = RawFile(base / 'ci/aare_test_data/jungfrau/jungfrau_single_master_0.json')\n",
    "headers, data = f.read()\n",
    "print(headers['frameNumber'])\n",
    "print(f'{data.shape=}')"
   ]
  },
  {
   "cell_type": "code",
   "execution_count": 3,
   "id": "24ba4851",
   "metadata": {},
   "outputs": [
    {
     "name": "stdout",
     "output_type": "stream",
     "text": [
      "data.shape=(10, 512, 1024)\n"
     ]
    }
   ],
   "source": [
    "# Asking for more than the total number of frames, the actual number of frames are returned\n",
    "f = RawFile(base / 'ci/aare_test_data/jungfrau/jungfrau_single_master_0.json')\n",
    "headers, data = f.read_n(17)\n",
    "print(f'{data.shape=}')"
   ]
  },
  {
   "cell_type": "code",
   "execution_count": 4,
   "id": "c4968ec5",
   "metadata": {},
   "outputs": [
    {
     "name": "stdout",
     "output_type": "stream",
     "text": [
      "0: data.shape=(7, 512, 1024)\n",
      "1: data.shape=(3, 512, 1024)\n",
      "2: No frames left in file\n"
     ]
    }
   ],
   "source": [
    "# When reading using read_n you get the number asked for, if not available the available frames\n",
    "# and if at EOF a runtime error\n",
    "f = RawFile(base / 'ci/aare_test_data/jungfrau/jungfrau_single_master_0.json')\n",
    "\n",
    "for i in range(3):\n",
    "    try:\n",
    "        headers, data = f.read_n(7)\n",
    "        print(f'{i}: {data.shape=}')\n",
    "    except RuntimeError as e:\n",
    "        print(f'{i}: {e}')"
   ]
  },
  {
   "cell_type": "markdown",
   "id": "b931721d",
   "metadata": {},
   "source": [
    "## Looping over the file"
   ]
  },
  {
   "cell_type": "code",
   "execution_count": 5,
   "id": "905838c9",
   "metadata": {},
   "outputs": [
    {
     "name": "stdout",
     "output_type": "stream",
     "text": [
      "[1] data.shape=(512, 1024)\n",
      "[2] data.shape=(512, 1024)\n",
      "[3] data.shape=(512, 1024)\n",
      "[4] data.shape=(512, 1024)\n",
      "[5] data.shape=(512, 1024)\n",
      "[6] data.shape=(512, 1024)\n",
      "[7] data.shape=(512, 1024)\n",
      "[8] data.shape=(512, 1024)\n",
      "[9] data.shape=(512, 1024)\n",
      "[10] data.shape=(512, 1024)\n"
     ]
    }
   ],
   "source": [
    "with RawFile(base / 'ci/aare_test_data/jungfrau/jungfrau_single_master_0.json') as f:\n",
    "    for header, data in f:\n",
    "        print(header['frameNumber'], f'{data.shape=}')"
   ]
  },
  {
   "cell_type": "markdown",
   "id": "dc280aef",
   "metadata": {},
   "source": [
    "**Looping with chunk_size**"
   ]
  },
  {
   "cell_type": "code",
   "execution_count": 6,
   "id": "5180f6d0",
   "metadata": {},
   "outputs": [
    {
     "name": "stdout",
     "output_type": "stream",
     "text": [
      "[1 2 3] data.shape=(3, 512, 1024)\n",
      "[4 5 6] data.shape=(3, 512, 1024)\n",
      "[7 8 9] data.shape=(3, 512, 1024)\n",
      "[10] data.shape=(1, 512, 1024)\n"
     ]
    }
   ],
   "source": [
    "with RawFile(base / 'ci/aare_test_data/jungfrau/jungfrau_single_master_0.json', chunk_size=3) as f:\n",
    "    for header, data in f:\n",
    "        print(header['frameNumber'], f'{data.shape=}')"
   ]
  }
 ],
 "metadata": {
  "kernelspec": {
   "display_name": "Python 3 (ipykernel)",
   "language": "python",
   "name": "python3"
  },
  "language_info": {
   "codemirror_mode": {
    "name": "ipython",
    "version": 3
   },
   "file_extension": ".py",
   "mimetype": "text/x-python",
   "name": "python",
   "nbconvert_exporter": "python",
   "pygments_lexer": "ipython3",
   "version": "3.12.7"
  }
 },
 "nbformat": 4,
 "nbformat_minor": 5
}
