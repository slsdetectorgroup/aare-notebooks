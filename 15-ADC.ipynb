{
 "cells": [
  {
   "cell_type": "code",
   "execution_count": 1,
   "id": "5c7cf170",
   "metadata": {},
   "outputs": [
    {
     "data": {
      "text/markdown": [
       "Example run on: **2025-02-04 15:40** with aare: **dev**"
      ],
      "text/plain": [
       "<IPython.core.display.Markdown object>"
      ]
     },
     "metadata": {},
     "output_type": "display_data"
    }
   ],
   "source": [
    "#add the dev version of aare\n",
    "import sys; sys.path.append('/home/l_msdetect/erik/aare/build')\n",
    "from helpers import nb_aare_version\n",
    "nb_aare_version()\n",
    "\n",
    "from aare import CtbRawFile\n",
    "\n",
    "import numpy as np\n",
    "from pathlib import Path\n",
    "\n",
    "import boost_histogram as bh"
   ]
  },
  {
   "cell_type": "code",
   "execution_count": 2,
   "id": "50fbe046",
   "metadata": {},
   "outputs": [
    {
     "name": "stdout",
     "output_type": "stream",
     "text": [
      "(2000, 1, 64000)\n"
     ]
    }
   ],
   "source": [
    "from aare._aare import decode_adc\n",
    "\n",
    "path = Path('/mnt/sls_det_storage/gotthard_data/ADC-SAR-05/data/DEL_scan/')\n",
    "fname = path/'CLK_1MHz_ADC0_SC3_DEL_DAC11_950mV63_63_63_63_63_63_63_63_63_63_63_63_995Hz_no_clip_master_1369.json'\n",
    "\n",
    "with CtbRawFile(fname) as f:\n",
    "    header, data = f.read()\n",
    "#frame analog/digital/trans, sample\n",
    "#(2000, 1, 64000)\n",
    "print(data.shape)\n",
    "\n",
    "data = data.reshape(data.shape[0], data.shape[2])\n",
    "# data = np.zeros((2000,8000), dtype = np.uint8)\n",
    "out = decode_adc(data)\n"
   ]
  },
  {
   "cell_type": "code",
   "execution_count": 3,
   "id": "8dafe16d",
   "metadata": {},
   "outputs": [
    {
     "ename": "NameError",
     "evalue": "name 'plt' is not defined",
     "output_type": "error",
     "traceback": [
      "\u001b[0;31m---------------------------------------------------------------------------\u001b[0m",
      "\u001b[0;31mNameError\u001b[0m                                 Traceback (most recent call last)",
      "Cell \u001b[0;32mIn[3], line 4\u001b[0m\n\u001b[1;32m      1\u001b[0m hist1 \u001b[38;5;241m=\u001b[39m bh\u001b[38;5;241m.\u001b[39mHistogram(bh\u001b[38;5;241m.\u001b[39maxis\u001b[38;5;241m.\u001b[39mRegular(\u001b[38;5;241m40\u001b[39m, \u001b[38;5;241m0\u001b[39m, \u001b[38;5;241m2\u001b[39m\u001b[38;5;241m*\u001b[39m\u001b[38;5;241m*\u001b[39m\u001b[38;5;241m12\u001b[39m))\n\u001b[1;32m      2\u001b[0m hist1\u001b[38;5;241m.\u001b[39mfill(out\u001b[38;5;241m.\u001b[39mflat)\n\u001b[0;32m----> 4\u001b[0m fig, ax \u001b[38;5;241m=\u001b[39m \u001b[43mplt\u001b[49m\u001b[38;5;241m.\u001b[39msubplots()\n\u001b[1;32m      5\u001b[0m ax\u001b[38;5;241m.\u001b[39mstep(hist1\u001b[38;5;241m.\u001b[39maxes[\u001b[38;5;241m0\u001b[39m]\u001b[38;5;241m.\u001b[39medges[:\u001b[38;5;241m-\u001b[39m\u001b[38;5;241m1\u001b[39m], hist1\u001b[38;5;241m.\u001b[39mvalues(), where\u001b[38;5;241m=\u001b[39m\u001b[38;5;124m\"\u001b[39m\u001b[38;5;124mpost\u001b[39m\u001b[38;5;124m\"\u001b[39m);\n",
      "\u001b[0;31mNameError\u001b[0m: name 'plt' is not defined"
     ]
    }
   ],
   "source": [
    "hist1 = bh.Histogram(bh.axis.Regular(40, 0, 2**12))\n",
    "hist1.fill(out.flat)\n",
    "\n",
    "fig, ax = plt.subplots()\n",
    "ax.step(hist1.axes[0].edges[:-1], hist1.values(), where=\"post\");"
   ]
  }
 ],
 "metadata": {
  "kernelspec": {
   "display_name": "Python 3 (ipykernel)",
   "language": "python",
   "name": "python3"
  },
  "language_info": {
   "codemirror_mode": {
    "name": "ipython",
    "version": 3
   },
   "file_extension": ".py",
   "mimetype": "text/x-python",
   "name": "python",
   "nbconvert_exporter": "python",
   "pygments_lexer": "ipython3",
   "version": "3.12.7"
  }
 },
 "nbformat": 4,
 "nbformat_minor": 5
}
