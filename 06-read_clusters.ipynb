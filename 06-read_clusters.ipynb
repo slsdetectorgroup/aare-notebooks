{
 "cells": [
  {
   "cell_type": "markdown",
   "id": "b8f61d2b",
   "metadata": {},
   "source": [
    "# Read clusters"
   ]
  },
  {
   "cell_type": "code",
   "execution_count": 1,
   "id": "7b8d429d",
   "metadata": {},
   "outputs": [
    {
     "data": {
      "text/markdown": [
       "Example run on: **2024-11-14 17:05** with aare: **dev**"
      ],
      "text/plain": [
       "<IPython.core.display.Markdown object>"
      ]
     },
     "metadata": {},
     "output_type": "display_data"
    }
   ],
   "source": [
    "#add the dev version of aare\n",
    "import sys\n",
    "sys.path.append('/home/l_msdetect/erik/aare/build')\n",
    "\n",
    "\n",
    "\n",
    "#Our normal python imports\n",
    "from pathlib import Path\n",
    "import matplotlib.pyplot as plt\n",
    "import numpy as np\n",
    "from datetime import datetime as dt\n",
    "\n",
    "#Rendering version\n",
    "from IPython.display import Markdown, display\n",
    "try:\n",
    "    from importlib import metadata\n",
    "    v = metadata.version('aare')\n",
    "except:\n",
    "    v = 'dev'\n",
    "    \n",
    "s = f'Example run on: **{dt.now():%Y-%m-%d %H:%M}** with aare: **{v}**'\n",
    "display(Markdown(s))\n",
    "\n"
   ]
  },
  {
   "cell_type": "code",
   "execution_count": 2,
   "id": "ec7ad75f",
   "metadata": {},
   "outputs": [
    {
     "data": {
      "text/plain": [
       "<matplotlib.legend.Legend at 0x7f51bd762720>"
      ]
     },
     "execution_count": 2,
     "metadata": {},
     "output_type": "execute_result"
    },
    {
     "data": {
      "image/png": "[encoded data removed]",
      "text/plain": [
       "<Figure size 640x480 with 1 Axes>"
      ]
     },
     "metadata": {},
     "output_type": "display_data"
    }
   ],
   "source": [
    "from aare import ClusterFile\n",
    "import boost_histogram as bh\n",
    "\n",
    "\n",
    "base = Path('/mnt/sls_det_storage/matterhorn_data/aare_test_data/ci/aare_test_data/clusters/')\n",
    "fname = 'beam_En700eV_-40deg_300V_10us_d0_f0_100.clust'\n",
    "\n",
    "# Create the histogram\n",
    "n_bins = 100\n",
    "xmin = -100\n",
    "xmax = 1e4\n",
    "hist1 = bh.Histogram(bh.axis.Regular(n_bins, xmin, xmax))\n",
    "\n",
    "#Read clusters and fill the histogram with pixel values\n",
    "with ClusterFile(base/fname, chunk_size = 10000) as f:\n",
    "    for clusters in f:\n",
    "        hist1.fill(clusters['data'].flat)\n",
    "\n",
    "#\n",
    "\n",
    "\n",
    "#Plotting\n",
    "fig, ax = plt.subplots()\n",
    "ax.bar(hist1.axes[0].centers, hist1.values(), width=hist1.axes[0].widths, label = 'data')\n",
    "ax.set_yscale('log')\n",
    "ax.set_xlabel('ADU [1]')\n",
    "ax.set_ylabel('Intensity [a.u.]')\n",
    "ax.legend()"
   ]
  }
 ],
 "metadata": {
  "kernelspec": {
   "display_name": "Python 3 (ipykernel)",
   "language": "python",
   "name": "python3"
  },
  "language_info": {
   "codemirror_mode": {
    "name": "ipython",
    "version": 3
   },
   "file_extension": ".py",
   "mimetype": "text/x-python",
   "name": "python",
   "nbconvert_exporter": "python",
   "pygments_lexer": "ipython3",
   "version": "3.12.7"
  }
 },
 "nbformat": 4,
 "nbformat_minor": 5
}
