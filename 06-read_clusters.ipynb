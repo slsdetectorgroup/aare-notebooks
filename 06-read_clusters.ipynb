{
 "cells": [
  {
   "cell_type": "markdown",
   "id": "b8f61d2b",
   "metadata": {},
   "source": [
    "# Reading a cluster file"
   ]
  },
  {
   "cell_type": "code",
   "execution_count": 1,
   "id": "7b8d429d",
   "metadata": {},
   "outputs": [
    {
     "data": {
      "text/markdown": [
       "Example run on: **2025-04-14 13:11** with aare: **dev**"
      ],
      "text/plain": [
       "<IPython.core.display.Markdown object>"
      ]
     },
     "metadata": {},
     "output_type": "display_data"
    }
   ],
   "source": [
    "#add the dev version of aare\n",
    "import sys; sys.path.append('/home/l_msdetect/erik/aare/build')\n",
    "from helpers import nb_aare_version\n",
    "nb_aare_version()\n",
    "\n",
    "#Our normal python imports\n",
    "from pathlib import Path\n",
    "import matplotlib.pyplot as plt\n",
    "import numpy as np\n",
    "import time"
   ]
  },
  {
   "cell_type": "markdown",
   "id": "110cf981-1116-4c0a-adcb-07fbd02b12a9",
   "metadata": {},
   "source": [
    "## Read all clusters and fill a histogram"
   ]
  },
  {
   "cell_type": "code",
   "execution_count": 2,
   "id": "ec7ad75f",
   "metadata": {},
   "outputs": [
    {
     "name": "stdout",
     "output_type": "stream",
     "text": [
      "Reading clusters and filling histogram tool 0.026s\n"
     ]
    },
    {
     "data": {
      "image/png": "[encoded data removed]",
      "text/plain": [
       "<Figure size 640x480 with 1 Axes>"
      ]
     },
     "metadata": {},
     "output_type": "display_data"
    }
   ],
   "source": [
    "# from aare import ClusterFile\n",
    "from aare import ClusterFile\n",
    "import boost_histogram as bh\n",
    "\n",
    "\n",
    "base = Path('/mnt/sls_det_storage/matterhorn_data/aare_test_data/ci/aare_test_data/clusters/')\n",
    "fname = 'beam_En700eV_-40deg_300V_10us_d0_f0_100.clust'\n",
    "\n",
    "\n",
    "# Create the histogram\n",
    "n_bins = 100\n",
    "xmin = -100\n",
    "xmax = 1e4\n",
    "hist_aare = bh.Histogram(bh.axis.Regular(n_bins, xmin, xmax))\n",
    "\n",
    "t0 = time.perf_counter()\n",
    "#Read clusters and fill the histogram with pixel values\n",
    "with ClusterFile(base/fname, chunk_size = 10000) as f:\n",
    "    for clusters in f:\n",
    "        arr = np.array(clusters, copy = False)\n",
    "        hist_aare.fill(arr['data'].flat)\n",
    "\n",
    "t = time.perf_counter()-t0\n",
    "print(f'Reading clusters and filling histogram tool {t:.3f}s')\n",
    "\n",
    "#Plotting\n",
    "fig, ax = plt.subplots()\n",
    "ax.bar(hist_aare.axes[0].centers, hist_aare.values(), width=hist_aare.axes[0].widths, label = 'data')\n",
    "ax.set_yscale('log')\n",
    "ax.set_xlabel('ADU [1]')\n",
    "ax.set_ylabel('Intensity [a.u.]')\n",
    "ax.legend();"
   ]
  },
  {
   "cell_type": "markdown",
   "id": "04187305",
   "metadata": {},
   "source": [
    "## Sanity check using pure python"
   ]
  },
  {
   "cell_type": "code",
   "execution_count": 3,
   "id": "46d56266",
   "metadata": {},
   "outputs": [
    {
     "name": "stdout",
     "output_type": "stream",
     "text": [
      "Reading 1000 frames with python took: 13.423s\n"
     ]
    },
    {
     "data": {
      "text/plain": [
       "<matplotlib.legend.Legend at 0x7f3c80f9fed0>"
      ]
     },
     "execution_count": 3,
     "metadata": {},
     "output_type": "execute_result"
    },
    {
     "data": {
      "image/png": "[encoded data removed]",
      "text/plain": [
       "<Figure size 640x480 with 1 Axes>"
      ]
     },
     "metadata": {},
     "output_type": "display_data"
    }
   ],
   "source": [
    "hist_py = bh.Histogram(bh.axis.Regular(n_bins, xmin, xmax))\n",
    "\n",
    "t0 = time.perf_counter()\n",
    "N = 1500 #Maximum frames\n",
    "with open(base/fname, 'rb') as f:\n",
    "    for i in range(N):\n",
    "        frame_number = np.fromfile(f, count=1, dtype = np.int32)\n",
    "        if frame_number.size == 0:\n",
    "            break\n",
    "        n_clusters = np.fromfile(f, count=1, dtype = np.uint32)[0]\n",
    "        for i in range(n_clusters):\n",
    "            xy = np.fromfile(f, count=2, dtype = np.uint16)\n",
    "            data = np.fromfile(f, count=9, dtype = np.int32)\n",
    "            hist_py.fill(data)\n",
    "t = time.perf_counter()-t0\n",
    "print(f'Reading {i} frames with python took: {t:.3f}s')\n",
    "\n",
    "#Plotting\n",
    "fig, ax = plt.subplots()\n",
    "ax.bar(hist_py.axes[0].centers, hist_py.values(), width=hist_py.axes[0].widths, label = 'data')\n",
    "ax.set_yscale('log')\n",
    "ax.set_xlabel('ADU [1]')\n",
    "ax.set_ylabel('Intensity [a.u.]')\n",
    "ax.legend()"
   ]
  },
  {
   "cell_type": "code",
   "execution_count": 4,
   "id": "ac473143-a95f-4ceb-80f2-0a85731673f9",
   "metadata": {},
   "outputs": [],
   "source": [
    "assert hist_aare==hist_py"
   ]
  },
  {
   "cell_type": "markdown",
   "id": "3ba0f6f2-9782-4c0e-8835-93de5d1717bf",
   "metadata": {},
   "source": [
    "## Read some clusters"
   ]
  },
  {
   "cell_type": "code",
   "execution_count": null,
   "id": "95566d50-ce25-4a0f-9641-b0022e746107",
   "metadata": {},
   "outputs": [],
   "source": [
    "from aare import hitmap, ROI\n",
    "\n",
    "\n",
    "roi = ROI(xmin = 100, xmax = 300, ymin= 50, ymax = 399)\n",
    "\n",
    "# Create the histogram\n",
    "n_bins = 100\n",
    "xmin = -100\n",
    "xmax = 1e4\n",
    "hist_aare = bh.Histogram(bh.axis.Regular(n_bins, xmin, xmax))\n",
    "\n",
    "image = np.zeros((400, 400))\n",
    "\n",
    "t0 = time.perf_counter()\n",
    "#Read clusters and fill the histogram with pixel values\n",
    "with ClusterFile(base/fname, chunk_size = 10000) as f:\n",
    "    f.set_roi(roi)\n",
    "    for clusters in f:\n",
    "        arr = np.array(clusters, copy = False)\n",
    "        hist_aare.fill(arr['data'].flat)\n",
    "        image += hitmap((400,400), clusters)\n",
    "\n",
    "t = time.perf_counter()-t0\n",
    "print(f'Reading clusters and filling histogram tool {t:.3f}s')\n",
    "\n",
    "#Plotting\n",
    "fig, axs = plt.subplots(1,2, figsize = (10,5))\n",
    "axs[0].bar(hist_aare.axes[0].centers, hist_aare.values(), width=hist_aare.axes[0].widths, label = 'data')\n",
    "axs[0].set_yscale('log')\n",
    "axs[0].set_xlabel('ADU [1]')\n",
    "axs[0].set_ylabel('Intensity [a.u.]')\n",
    "axs[0].legend();\n",
    "\n",
    "im = axs[1].imshow(image)\n",
    "im.set_clim(0,30)"
   ]
  }
 ],
 "metadata": {
  "kernelspec": {
   "display_name": "Python 3 (ipykernel)",
   "language": "python",
   "name": "python3"
  },
  "language_info": {
   "codemirror_mode": {
    "name": "ipython",
    "version": 3
   },
   "file_extension": ".py",
   "mimetype": "text/x-python",
   "name": "python",
   "nbconvert_exporter": "python",
   "pygments_lexer": "ipython3",
   "version": "3.13.2"
  }
 },
 "nbformat": 4,
 "nbformat_minor": 5
}
