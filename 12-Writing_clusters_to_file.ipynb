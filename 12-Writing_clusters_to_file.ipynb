{
 "cells": [
  {
   "cell_type": "markdown",
   "id": "9f1fc724",
   "metadata": {},
   "source": [
    "# Run multi threaded clustering and write to file"
   ]
  },
  {
   "cell_type": "code",
   "execution_count": 1,
   "id": "08ceee59",
   "metadata": {},
   "outputs": [
    {
     "data": {
      "text/markdown": [
       "Example run on: **2025-01-14 11:34** with aare: **dev**"
      ],
      "text/plain": [
       "<IPython.core.display.Markdown object>"
      ]
     },
     "metadata": {},
     "output_type": "display_data"
    }
   ],
   "source": [
    "#add the dev version of aare\n",
    "import sys; sys.path.append('/home/l_msdetect/erik/aare/build')\n",
    "from helpers import nb_aare_version\n",
    "nb_aare_version()\n",
    "\n",
    "#Our normal python imports\n",
    "from pathlib import Path\n",
    "import matplotlib.pyplot as plt\n",
    "from mpl_toolkits.axes_grid1 import make_axes_locatable\n",
    "import numpy as np\n",
    "import boost_histogram as bh\n",
    "import time\n",
    "\n",
    "#Directly import what we need from aare\n",
    "from aare import File, ClusterFileSink, ClusterFinderMT, ClusterFile, hitmap\n",
    "from aare._aare import calculate_eta2\n",
    "\n",
    "\n",
    "base = Path('/mnt/sls_det_storage/highZ_data/Erik/CZT_Mo')\n",
    "out_fname = base/'processed/Mo.clust'\n",
    "pedestal_file = base/'20241212_CZTsolo_Pedestal_Tp_15C_tint_100_period_0910us_master_0.json'\n",
    "data_file = base/'20241212_CZTsolo_Xray_Tp_15C_tint_100_period_0910us_master_0.json'"
   ]
  },
  {
   "cell_type": "markdown",
   "id": "fb419928",
   "metadata": {},
   "source": [
    "## Pedestal"
   ]
  },
  {
   "cell_type": "code",
   "execution_count": 2,
   "id": "c10fb4d1",
   "metadata": {},
   "outputs": [
    {
     "ename": "NameError",
     "evalue": "name 'base' is not defined",
     "output_type": "error",
     "traceback": [
      "\u001b[0;31m---------------------------------------------------------------------------\u001b[0m",
      "\u001b[0;31mNameError\u001b[0m                                 Traceback (most recent call last)",
      "Cell \u001b[0;32mIn[2], line 4\u001b[0m\n\u001b[1;32m      2\u001b[0m cluster_size \u001b[38;5;241m=\u001b[39m (\u001b[38;5;241m3\u001b[39m,\u001b[38;5;241m3\u001b[39m)\n\u001b[1;32m      3\u001b[0m image_size \u001b[38;5;241m=\u001b[39m (\u001b[38;5;241m256\u001b[39m,\u001b[38;5;241m256\u001b[39m) \u001b[38;5;66;03m#could also be read from master file\u001b[39;00m\n\u001b[0;32m----> 4\u001b[0m pedestal_file \u001b[38;5;241m=\u001b[39m \u001b[43mbase\u001b[49m\u001b[38;5;241m/\u001b[39m\u001b[38;5;124m'\u001b[39m\u001b[38;5;124m20241212_CZTsolo_Pedestal_Tp_15C_tint_100_period_0910us_master_0.json\u001b[39m\u001b[38;5;124m'\u001b[39m\n\u001b[1;32m      5\u001b[0m data_file \u001b[38;5;241m=\u001b[39m base\u001b[38;5;241m/\u001b[39m\u001b[38;5;124m'\u001b[39m\u001b[38;5;124m20241212_CZTsolo_Xray_Tp_15C_tint_100_period_0910us_master_0.json\u001b[39m\u001b[38;5;124m'\u001b[39m\n\u001b[1;32m      7\u001b[0m cf \u001b[38;5;241m=\u001b[39m ClusterFinderMT(image_size, cluster_size, n_sigma \u001b[38;5;241m=\u001b[39m \u001b[38;5;241m10\u001b[39m, capacity \u001b[38;5;241m=\u001b[39m \u001b[38;5;241m2000\u001b[39m, n_threads\u001b[38;5;241m=\u001b[39m\u001b[38;5;241m48\u001b[39m)\n",
      "\u001b[0;31mNameError\u001b[0m: name 'base' is not defined"
     ]
    }
   ],
   "source": [
    "n_frames_pd = 1000\n",
    "cluster_size = (3,3)\n",
    "image_size = (256,256) #could also be read from master file\n",
    "\n",
    "\n",
    "cf = ClusterFinderMT(image_size, cluster_size, n_sigma = 10, capacity = 2000, n_threads=48)\n",
    "\n",
    "t0 = time.perf_counter()\n",
    "\n",
    "with File(pedestal_file) as f:\n",
    "    for i in range(n_frames_pd):\n",
    "        img = f.read_frame()\n",
    "        cf.push_pedestal_frame(img)\n",
    "cf.sync() #Wait until the input queue is empty, purely for timing\n",
    "\n",
    "elapsed_t = time.perf_counter()-t0\n",
    "print(f'Pedestal took: {elapsed_t:.3f}s')\n",
    "\n"
   ]
  },
  {
   "cell_type": "markdown",
   "id": "5fff706c",
   "metadata": {},
   "source": [
    "### Pedestal before clustering"
   ]
  },
  {
   "cell_type": "code",
   "execution_count": null,
   "id": "ba970dc1",
   "metadata": {},
   "outputs": [],
   "source": [
    "#Stop the MT cluster finder to read back pedestal and nosie from thread 19\n",
    "cf.stop()\n",
    "pd = cf.pedestal(19)\n",
    "noise = cf.noise(19)\n",
    "cf.start()\n",
    "\n",
    "fig, axs = plt.subplots(1,2, figsize = (10,5))\n",
    "im = axs[0].imshow(pd)\n",
    "im.set_clim(4000,6000)\n",
    "axs[0].set_title('Pedestal')\n",
    "\n",
    "\n",
    "im = axs[1].imshow(noise)\n",
    "im.set_clim(0,15)\n",
    "axs[1].set_title('Noise')\n",
    "\n",
    "#Make sure the color bar has the same height as the image\n",
    "for ax in axs:\n",
    "    divider = make_axes_locatable(ax)\n",
    "    cax = divider.append_axes(\"right\", size=\"5%\", pad=0.05)\n",
    "    plt.colorbar(im, cax=cax)"
   ]
  },
  {
   "cell_type": "markdown",
   "id": "3ec6562d",
   "metadata": {},
   "source": [
    "# Clustering"
   ]
  },
  {
   "cell_type": "code",
   "execution_count": null,
   "id": "491aa6d8",
   "metadata": {},
   "outputs": [],
   "source": [
    "N = 50000\n",
    "t_start = time.perf_counter()\n",
    "t0 = time.perf_counter()\n",
    "\n",
    "#Connect a sink to the ClusterFinder, this will pull all clustered frames\n",
    "#from the ClusterFinder and write them to a old style cluster file\n",
    "sink = ClusterFileSink(cf, out_fname)\n",
    "\n",
    "with File(data_file) as f:\n",
    "    f.seek(500) #skip the first 500 frames to avoid temperature issues\n",
    "    for i in range(N):\n",
    "        frame_number = f.frame_number()\n",
    "        frame = f.read_frame()\n",
    "        cf.find_clusters(frame, frame_number)\n",
    "\n",
    "#once we are done with the processing we stop the ClusterFinderMT and the ClusterFileSink\n",
    "#This would also be needed if we want to access data that is used by the processing threads\n",
    "cf.stop()\n",
    "sink.stop()\n",
    "\n",
    "t_elapsed = time.perf_counter()-t0\n",
    "print(f'Clustering (and writing to disk) {N} frames took {t_elapsed:.2f}s  {N/t_elapsed:.0f} FPS')\n"
   ]
  },
  {
   "cell_type": "markdown",
   "id": "c3d2aca2",
   "metadata": {},
   "source": [
    "## Plot the results\n",
    "\n",
    "- Load data from the cluster file\n",
    "- Iterate over the file\n",
    "- Fill the histogram with the sum of the cluster"
   ]
  },
  {
   "cell_type": "code",
   "execution_count": null,
   "id": "2a7efed4",
   "metadata": {},
   "outputs": [],
   "source": [
    "#one histogram with the sum for each cluster in the file\n",
    "hist1 = bh.Histogram(bh.axis.Regular(100, 50, 2000))\n",
    "\n",
    "with ClusterFile(out_fname) as f:\n",
    "    for clusters in f:\n",
    "        hist1.fill(clusters.sum())\n",
    "        \n",
    "\n",
    "fig, ax = plt.subplots()\n",
    "ax.step(hist1.axes[0].edges[:-1], hist1.values(), where=\"post\", label = f'n_clusters: {hist1.sum():.0f}');\n",
    "ax.set_xlabel('Energy [ADU]')\n",
    "ax.set_ylabel('Intensity [a.u.]')\n",
    "ax.legend()\n",
    "ax.set_ylim(0, hist1.values().max()*1.1)\n",
    "ax.grid()"
   ]
  },
  {
   "cell_type": "markdown",
   "id": "abb899ea",
   "metadata": {},
   "source": [
    "### Make an hitmap from all clusters"
   ]
  },
  {
   "cell_type": "code",
   "execution_count": null,
   "id": "67e13133",
   "metadata": {},
   "outputs": [],
   "source": [
    "img = np.zeros((256,256))\n",
    "with ClusterFile(out_fname) as f:\n",
    "    for clusters in f:\n",
    "        img += hitmap(img.shape, clusters)\n",
    "        \n",
    "fig, ax = plt.subplots()\n",
    "im = ax.imshow(img)\n",
    "im.set_clim(0,500)\n",
    "divider = make_axes_locatable(ax)\n",
    "cax = divider.append_axes(\"right\", size=\"5%\", pad=0.05)\n",
    "plt.colorbar(im, cax=cax)"
   ]
  },
  {
   "cell_type": "markdown",
   "id": "a3488ab6",
   "metadata": {},
   "source": [
    "### Make a 3D histogram for calibration"
   ]
  },
  {
   "cell_type": "code",
   "execution_count": null,
   "id": "15cb212b",
   "metadata": {},
   "outputs": [],
   "source": [
    "t0 = time.perf_counter()\n",
    "offset= -0.5\n",
    "hist3d = bh.Histogram(\n",
    "    bh.axis.Regular(256, 0+offset, 256+offset),  #x\n",
    "    bh.axis.Regular(256, 0+offset, 256+offset),  #y\n",
    "    bh.axis.Regular(200, 0, 2000), #ADU\n",
    ")\n",
    "\n",
    "total_clusters = 0\n",
    "with ClusterFile(out_fname, chunk_size = 1000) as f:\n",
    "    for i, clusters in enumerate(f):\n",
    "        arr = np.array(clusters)\n",
    "        total_clusters += clusters.size\n",
    "        hist3d.fill(arr['x'], arr['y'], clusters.sum())\n",
    "\n",
    "        \n",
    "t_elapsed = time.perf_counter()-t0\n",
    "print(f'Histogram filling took: {t_elapsed:.3f}s {total_clusters/t_elapsed/1e6:.3f}M clusters/s')"
   ]
  },
  {
   "cell_type": "markdown",
   "id": "7886aa54",
   "metadata": {},
   "source": [
    "**Plot the 2D projection of all clusters (identical to hitmap)**"
   ]
  },
  {
   "cell_type": "code",
   "execution_count": null,
   "id": "f0586c8b",
   "metadata": {},
   "outputs": [],
   "source": [
    "#Project the histogram, showing number of clusters per pixel\n",
    "img = hist3d.values().sum(axis = 2)\n",
    "fig, ax = plt.subplots()\n",
    "im = ax.imshow(img)\n",
    "divider = make_axes_locatable(ax)\n",
    "cax = divider.append_axes(\"right\", size=\"5%\", pad=0.05)\n",
    "plt.colorbar(im, cax=cax)\n",
    "im.set_clim(0,500)\n",
    "print(img.shape)"
   ]
  },
  {
   "cell_type": "markdown",
   "id": "002c9de3",
   "metadata": {},
   "source": [
    "**Plot the histogram from one pixel (this is later used for fitting)**"
   ]
  },
  {
   "cell_type": "code",
   "execution_count": null,
   "id": "3d7b8716",
   "metadata": {},
   "outputs": [],
   "source": [
    "pixel = (100,100)\n",
    "counts = hist3d.values()[*pixel]\n",
    "\n",
    "fig, ax = plt.subplots()\n",
    "ax.step(hist3d.axes[2].edges[:-1], counts, where=\"post\", label = f'pixel: {pixel}');\n",
    "ax.set_xlabel('ADU')\n",
    "ax.set_ylabel('Counts')\n",
    "ax.legend()\n",
    "ax.grid()"
   ]
  },
  {
   "cell_type": "markdown",
   "id": "c54d20c6",
   "metadata": {},
   "source": [
    "### Clusters per frame"
   ]
  },
  {
   "cell_type": "code",
   "execution_count": null,
   "id": "fb1bfee4",
   "metadata": {},
   "outputs": [],
   "source": [
    "clusters_per_frame = np.zeros(N)\n",
    "frame_numbers = np.zeros(N)\n",
    "img = np.zeros((256,256))\n",
    "with ClusterFile(out_fname) as f:\n",
    "    for i in range(N):\n",
    "        clusters = f.read_frame()\n",
    "        clusters_per_frame[i] = clusters.size\n",
    "        frame_numbers[i] = clusters.frame_number\n",
    "        \n",
    "\n",
    "fig, ax = plt.subplots()\n",
    "ax.plot(clusters_per_frame[frame_numbers.argsort()])"
   ]
  },
  {
   "cell_type": "markdown",
   "id": "9c43d313",
   "metadata": {},
   "source": [
    "### Noise and pedestal after clustering"
   ]
  },
  {
   "cell_type": "code",
   "execution_count": null,
   "id": "2220a235",
   "metadata": {},
   "outputs": [],
   "source": [
    "fig, axs = plt.subplots(1,2, figsize = (10,5))\n",
    "\n",
    "pd = cf.pedestal(7)\n",
    "noise = cf.noise(7)\n",
    "\n",
    "im = axs[0].imshow(pd)\n",
    "im.set_clim(4000,6000)\n",
    "axs[0].set_title('Pedestal')\n",
    "\n",
    "\n",
    "im = axs[1].imshow(noise)\n",
    "im.set_clim(0,15)\n",
    "axs[1].set_title('Noise')\n",
    "\n",
    "for ax in axs:\n",
    "    divider = make_axes_locatable(ax)\n",
    "    cax = divider.append_axes(\"right\", size=\"5%\", pad=0.05)\n",
    "    plt.colorbar(im, cax=cax)"
   ]
  },
  {
   "cell_type": "code",
   "execution_count": null,
   "id": "93d8099e",
   "metadata": {},
   "outputs": [],
   "source": [
    "#2D histogram to show eta2\n",
    "hist = bh.Histogram(bh.axis.Regular(50, 0, 1), bh.axis.Regular(50, 0, 1))\n",
    "\n",
    "t0 = time.perf_counter()\n",
    "total_clusters = 0\n",
    "with ClusterFile(out_fname) as f:\n",
    "    for clusters in f:\n",
    "        eta2 = calculate_eta2(clusters)\n",
    "        hist.fill(eta2[:,0], eta2[:,1])\n",
    "        total_clusters += clusters.size\n",
    "elapsed_t = time.perf_counter()-t0\n",
    "print(f'Calcualting eta2 took: {elapsed_t:.3f}s, {total_clusters/elapsed_t:.3g} clusters/s')\n"
   ]
  },
  {
   "cell_type": "code",
   "execution_count": null,
   "id": "fac79e85",
   "metadata": {},
   "outputs": [],
   "source": [
    "fig, ax = plt.subplots()\n",
    "mesh = ax.pcolormesh(*hist.axes.edges.T, hist.view())\n",
    "fig.colorbar(mesh)"
   ]
  },
  {
   "cell_type": "code",
   "execution_count": null,
   "id": "42f5a9b1",
   "metadata": {},
   "outputs": [],
   "source": []
  }
 ],
 "metadata": {
  "kernelspec": {
   "display_name": "Python 3 (ipykernel)",
   "language": "python",
   "name": "python3"
  },
  "language_info": {
   "codemirror_mode": {
    "name": "ipython",
    "version": 3
   },
   "file_extension": ".py",
   "mimetype": "text/x-python",
   "name": "python",
   "nbconvert_exporter": "python",
   "pygments_lexer": "ipython3",
   "version": "3.12.7"
  }
 },
 "nbformat": 4,
 "nbformat_minor": 5
}
