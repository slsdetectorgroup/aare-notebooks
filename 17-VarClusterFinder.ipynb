{
 "cells": [
  {
   "cell_type": "markdown",
   "metadata": {},
   "source": [
    "## Using variable sized clusters\n",
    "This cluster finder aims to find clusters with arbitrary shapes and sizes for the use in electron signals or signals of the high-Z sensors.\n",
    "\n",
    "Two algorithms are implemented: FloodFill in find_clusters_X() and Two Pass in find_clusters().\n",
    "The find_clusters_X() with higher efficiency is further developed to return information regarding hit positions and energies."
   ]
  },
  {
   "cell_type": "code",
   "execution_count": 16,
   "metadata": {},
   "outputs": [],
   "source": [
    "import sys\n",
    "### replace the path with your own path\n",
    "sys.path.append('/home/xie_x1/aare/build/')\n",
    "import aare"
   ]
  },
  {
   "cell_type": "code",
   "execution_count": 17,
   "metadata": {},
   "outputs": [
    {
     "name": "stdout",
     "output_type": "stream",
     "text": [
      "Found 5 clusters\n",
      "Cluster 0 has 9 hits, total energy: 38.0\n",
      "Cluster 1 has 9 hits, total energy: 46.0\n",
      "Cluster 2 has 2 hits, total energy: 12.0\n",
      "Cluster 3 has 9 hits, total energy: 52.0\n",
      "Cluster 4 has 76 hits, total energy: 456.0\n"
     ]
    },
    {
     "data": {
      "text/plain": [
       "<matplotlib.image.AxesImage at 0x7ff6d3696910>"
      ]
     },
     "execution_count": 17,
     "metadata": {},
     "output_type": "execute_result"
    },
    {
     "data": {
      "image/png": "[encoded data removed]",
      "text/plain": [
       "<Figure size 1500x500 with 3 Axes>"
      ]
     },
     "metadata": {},
     "output_type": "display_data"
    }
   ],
   "source": [
    "import matplotlib.pyplot as plt\n",
    "import numpy as np\n",
    "import time\n",
    "\n",
    "from aare import VarClusterFinder\n",
    "\n",
    "canvas = plt.figure()\n",
    "canvas.set_size_inches(15, 5)\n",
    "### 3 subplots\n",
    "ax1 = canvas.add_subplot(131)\n",
    "ax1.set_title('Original')\n",
    "ax2 = canvas.add_subplot(132)\n",
    "ax2.set_title('Remainings')\n",
    "ax3 = canvas.add_subplot(133)\n",
    "ax3.set_title('Hits replotted')\n",
    "\n",
    "### create a cluster finder\n",
    "CF = VarClusterFinder((20, 20), 5) ### arg1: frame size, arg2: threshold\n",
    "CF.set_peripheralThresholdFactor(2)\n",
    "\n",
    "### create signal and noise frames to play with\n",
    "noiseFrame = np.ones((20, 20)) ### 2D noise of 1\n",
    "CF.set_noiseMap(noiseFrame)\n",
    "frame = np.zeros((20, 20))\n",
    "\n",
    "### add signals\n",
    "### cluster 1\n",
    "frame[3:6, 3:6] = 6\n",
    "frame[4, 4] = 4\n",
    "### cluster 2\n",
    "frame[13:16, 2:5] = 4 ### the peripheral hit between 2*sigma and 5*sigma will be collected \n",
    "frame[13:16, 3] = 6\n",
    "frame[14, 2:5] = 6\n",
    "### cluster 3 below 5*sigma=5\n",
    "frame[7:10, 13:16] = 4 ### hits below 5*sigma will be ignored\n",
    "### cluster 4\n",
    "frame[13:16, 13:16] = 4 ### the peripheral hit between 2*sigma and 5*sigma will be collected \n",
    "frame[14, 14] = 6\n",
    "### cluster 5\n",
    "frame[0, :] = 6\n",
    "frame[-1, :] = 6\n",
    "frame[:, 0] = 6\n",
    "frame[:, -1] = 6\n",
    "### cluster 6\n",
    "frame[8, 8] = 6 ### the four diagonal hits will be \n",
    "frame[9, 9] = 6\n",
    "\n",
    "ax1.imshow(frame, origin='lower', vmin=0, vmax=6)\n",
    "\n",
    "CF.find_clusters_X(frame)\n",
    "clusters = CF.hits()\n",
    "print(f'Found {len(clusters)} clusters')\n",
    "ax2.imshow(frame, origin='lower', vmin=0, vmax=6)\n",
    "\n",
    "newFrame = np.zeros((20, 20))\n",
    "for i_cluster in range(len(clusters)):\n",
    "    clusterSize = clusters['size'][i_cluster]\n",
    "    xs = clusters['cols'][i_cluster]\n",
    "    ys = clusters['rows'][i_cluster]\n",
    "    enes = clusters['enes'][i_cluster]\n",
    "    energy = clusters['energy'][i_cluster]\n",
    "    print(f'Cluster {i_cluster} has {clusterSize} hits, total energy: {energy}')\n",
    "    for i in range(clusterSize):\n",
    "        newFrame[ys[i], xs[i]] = enes[i]\n",
    "ax3.imshow(newFrame, origin='lower', vmin=0, vmax=6)"
   ]
  },
  {
   "cell_type": "code",
   "execution_count": 18,
   "metadata": {},
   "outputs": [
    {
     "name": "stdout",
     "output_type": "stream",
     "text": [
      "1.44 µs ± 1.77 ns per loop (mean ± std. dev. of 7 runs, 1,000,000 loops each)\n"
     ]
    }
   ],
   "source": [
    "%timeit frame = np.ones((20, 20))*6"
   ]
  },
  {
   "cell_type": "code",
   "execution_count": 19,
   "metadata": {},
   "outputs": [
    {
     "name": "stdout",
     "output_type": "stream",
     "text": [
      "17.4 µs ± 754 ns per loop (mean ± std. dev. of 7 runs, 100,000 loops each)\n"
     ]
    }
   ],
   "source": [
    "%timeit frame = np.ones((20, 20))*6; CF.find_clusters(frame)"
   ]
  },
  {
   "cell_type": "code",
   "execution_count": 20,
   "metadata": {},
   "outputs": [
    {
     "name": "stdout",
     "output_type": "stream",
     "text": [
      "13.8 µs ± 954 ns per loop (mean ± std. dev. of 7 runs, 100,000 loops each)\n"
     ]
    }
   ],
   "source": [
    "%timeit frame = np.ones((20, 20))*6; CF.find_clusters_X(frame)"
   ]
  }
 ],
 "metadata": {
  "kernelspec": {
   "display_name": "base",
   "language": "python",
   "name": "python3"
  },
  "language_info": {
   "codemirror_mode": {
    "name": "ipython",
    "version": 3
   },
   "file_extension": ".py",
   "mimetype": "text/x-python",
   "name": "python",
   "nbconvert_exporter": "python",
   "pygments_lexer": "ipython3",
   "version": "3.11.6"
  }
 },
 "nbformat": 4,
 "nbformat_minor": 2
}
